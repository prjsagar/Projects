{
 "cells": [
  {
   "cell_type": "code",
   "execution_count": 1,
   "id": "e0eef474",
   "metadata": {},
   "outputs": [],
   "source": [
    "from bs4 import BeautifulSoup\n",
    "import requests\n",
    "import time \n",
    "import datetime\n",
    "import smtplib"
   ]
  },
  {
   "cell_type": "code",
   "execution_count": 13,
   "id": "28a9c9b8",
   "metadata": {},
   "outputs": [
    {
     "name": "stdout",
     "output_type": "stream",
     "text": [
      "\n",
      "             LG 1.5 Ton 5 Star DUAL Inverter Split AC (Copper, AI Convertible 6-in-1 Cooling, 4 Way, HD Filter with Anti-Virus Protection, 2024 Model, TS-Q19YNZE, White)\n",
      "            \n",
      "\n",
      "                          42,790\n",
      "                          \n",
      "                           .\n",
      "                          \n",
      "\n"
     ]
    }
   ],
   "source": [
    "URL='https://www.amazon.in/LG-Convertible-Anti-Virus-Protection-TS-Q19YNZE/dp/B0CQHQZZVC/ref=sr_1_3?crid=1M6JCMH4F4YVI&dib=eyJ2IjoiMSJ9.mXmpcTp-DOUhg_fjR2ofbGKhWFCfE_8kuxIhTpWy_kdllXrt2a-i4LFe_6ygn-lESwADNUA0FaesYQkAaNUE2wp1gq0vusiKhzAvQR6k88ihm5HQ4FG5GmXSlouspyB7zcvp7u49XFsKJHk8GJnM6mrbkLMHdMoZdxRFC6aFd7yuYcoCwIuszv9n-HzgS-02bHgOvDscdSL22ZjNFfjGTYGbHSs20x__bN5fbfIjhOs.-FYSuT0Zm-bC3VeMkakdRtNOhpI-1CBHOg-HdbIKMec&dib_tag=se&keywords=ac%2B1.5%2Bton%2B5%2Bstar&qid=1716718372&sprefix=ac%2B1.5%2Bton%2B5%2Bstar%2Caps%2C282&sr=8-3&th=1'\n",
    "\n",
    "headers = {\"User-Agent\": \"Mozilla/5.0 (Windows NT 10.0; Win64; x64; rv:126.0) Gecko/20100101 Firefox/126.0\", \"Accept-Encoding\":\"gzip, deflate\", \"Accept\":\"text/html,application/xhtml+xml,application/xml;q=0.9,*/*;q=0.8\", \"DNT\":\"1\",\"Connection\":\"close\", \"Upgrade-Insecure-Requests\":\"1\"}\n",
    "\n",
    "page=requests.get(URL , headers=headers)\n",
    "\n",
    "soup1=BeautifulSoup(page.content,\"html.parser\")\n",
    "\n",
    "soup2=BeautifulSoup(soup1.prettify(), \"html.parser\")\n",
    "\n",
    "title = soup2.find(id=\"productTitle\").get_text()\n",
    "\n",
    "price = soup2.find(class_=\"a-price-whole\").get_text()\n",
    "\n",
    "print(title)\n",
    "print(price)\n"
   ]
  },
  {
   "cell_type": "code",
   "execution_count": 3,
   "id": "30714b76",
   "metadata": {},
   "outputs": [
    {
     "name": "stdout",
     "output_type": "stream",
     "text": [
      "LG 1.5 Ton 5 Star DUAL Inverter Split AC (Copper, AI Convertible 6-in-1 Cooling, 4 Way, HD Filter with Anti-Virus Protection, 2024 Model, TS-Q19YNZE, White)\n",
      "37,690\n",
      "                          \n",
      "                           .\n"
     ]
    }
   ],
   "source": [
    "price=price.strip()\n",
    "title=title.strip()\n",
    "\n",
    "print(title)\n",
    "print(price)"
   ]
  },
  {
   "cell_type": "code",
   "execution_count": 4,
   "id": "fe45efca",
   "metadata": {},
   "outputs": [
    {
     "name": "stdout",
     "output_type": "stream",
     "text": [
      "2024-05-29\n"
     ]
    }
   ],
   "source": [
    "# Create a Timestamp for your output to track when data was collected\n",
    "\n",
    "import datetime\n",
    "\n",
    "today = datetime.date.today()\n",
    "\n",
    "print(today)"
   ]
  },
  {
   "cell_type": "code",
   "execution_count": 5,
   "id": "241ce100",
   "metadata": {},
   "outputs": [],
   "source": [
    "# Create CSV and write headers and data into the file\n",
    "\n",
    "import csv \n",
    "\n",
    "header = ['Title', 'Price', 'Date']\n",
    "data = [title, price, today]\n",
    "\n",
    "\n",
    "with open('AmazonWebScraperDataset.csv', 'w', newline='', encoding='UTF8') as f:\n",
    "    writer = csv.writer(f)\n",
    "    writer.writerow(header)\n",
    "    writer.writerow(data)\n",
    "    "
   ]
  },
  {
   "cell_type": "code",
   "execution_count": 6,
   "id": "35720980",
   "metadata": {
    "scrolled": true
   },
   "outputs": [
    {
     "data": {
      "text/html": [
       "<div>\n",
       "<style scoped>\n",
       "    .dataframe tbody tr th:only-of-type {\n",
       "        vertical-align: middle;\n",
       "    }\n",
       "\n",
       "    .dataframe tbody tr th {\n",
       "        vertical-align: top;\n",
       "    }\n",
       "\n",
       "    .dataframe thead th {\n",
       "        text-align: right;\n",
       "    }\n",
       "</style>\n",
       "<table border=\"1\" class=\"dataframe\">\n",
       "  <thead>\n",
       "    <tr style=\"text-align: right;\">\n",
       "      <th></th>\n",
       "      <th>Title</th>\n",
       "      <th>Price</th>\n",
       "      <th>Date</th>\n",
       "    </tr>\n",
       "  </thead>\n",
       "  <tbody>\n",
       "    <tr>\n",
       "      <th>0</th>\n",
       "      <td>LG 1.5 Ton 5 Star DUAL Inverter Split AC (Copp...</td>\n",
       "      <td>37,690\\n                          \\n          ...</td>\n",
       "      <td>2024-05-29</td>\n",
       "    </tr>\n",
       "  </tbody>\n",
       "</table>\n",
       "</div>"
      ],
      "text/plain": [
       "                                               Title  \\\n",
       "0  LG 1.5 Ton 5 Star DUAL Inverter Split AC (Copp...   \n",
       "\n",
       "                                               Price        Date  \n",
       "0  37,690\\n                          \\n          ...  2024-05-29  "
      ]
     },
     "execution_count": 6,
     "metadata": {},
     "output_type": "execute_result"
    }
   ],
   "source": [
    "import pandas as pd\n",
    "\n",
    "df = pd.read_csv(r'C:\\Users\\praja\\AmazonWebScraperDataset.csv')\n",
    "\n",
    "df"
   ]
  },
  {
   "cell_type": "code",
   "execution_count": 7,
   "id": "7ad62b93",
   "metadata": {},
   "outputs": [],
   "source": [
    "#Now we are appending data to the csv\n",
    "\n",
    "with open('AmazonWebScraperDataset.csv', 'a+', newline='', encoding='UTF8') as f:\n",
    "    writer = csv.writer(f)\n",
    "    writer.writerow(data)"
   ]
  },
  {
   "cell_type": "code",
   "execution_count": null,
   "id": "5a37a8f0",
   "metadata": {},
   "outputs": [],
   "source": [
    "#Combine all of the above code into one function\n",
    "\n",
    "\n",
    "def check_price():\n",
    "    \n",
    "    URL='https://www.amazon.in/LG-Convertible-Anti-Virus-Protection-TS-Q19YNZE/dp/B0CQHQZZVC/ref=sr_1_3?crid=1M6JCMH4F4YVI&dib=eyJ2IjoiMSJ9.mXmpcTp-DOUhg_fjR2ofbGKhWFCfE_8kuxIhTpWy_kdllXrt2a-i4LFe_6ygn-lESwADNUA0FaesYQkAaNUE2wp1gq0vusiKhzAvQR6k88ihm5HQ4FG5GmXSlouspyB7zcvp7u49XFsKJHk8GJnM6mrbkLMHdMoZdxRFC6aFd7yuYcoCwIuszv9n-HzgS-02bHgOvDscdSL22ZjNFfjGTYGbHSs20x__bN5fbfIjhOs.-FYSuT0Zm-bC3VeMkakdRtNOhpI-1CBHOg-HdbIKMec&dib_tag=se&keywords=ac%2B1.5%2Bton%2B5%2Bstar&qid=1716718372&sprefix=ac%2B1.5%2Bton%2B5%2Bstar%2Caps%2C282&sr=8-3&th=1'\n",
    "\n",
    "    headers = {\"User-Agent\": \"Mozilla/5.0 (Windows NT 10.0; Win64; x64; rv:126.0) Gecko/20100101 Firefox/126.0\", \"Accept-Encoding\":\"gzip, deflate\", \"Accept\":\"text/html,application/xhtml+xml,application/xml;q=0.9,*/*;q=0.8\", \"DNT\":\"1\",\"Connection\":\"close\", \"Upgrade-Insecure-Requests\":\"1\"}\n",
    "  \n",
    "    \n",
    "    page = requests.get(URL, headers=headers)\n",
    "\n",
    "    soup1 = BeautifulSoup(page.content, \"html.parser\")\n",
    "\n",
    "    soup2 = BeautifulSoup(soup1.prettify(), \"html.parser\")\n",
    "\n",
    "    title = soup2.find(id='productTitle').get_text()\n",
    "    \n",
    "    price = soup2.find(class_=\"a-price-whole\").get_text()\n",
    "\n",
    "    \n",
    "\n",
    "    price = price.strip()\n",
    "    title = title.strip()\n",
    "\n",
    "    import datetime\n",
    "\n",
    "    today = datetime.date.today()\n",
    "    \n",
    "    import csv \n",
    "\n",
    "    header = ['Title', 'Price', 'Date']\n",
    "    data = [title, price, today]\n",
    "\n",
    "    with open('AmazonWebScraperDataset.csv', 'a+', newline='', encoding='UTF8') as f:\n",
    "        writer = csv.writer(f)\n",
    "        writer.writerow(data)    \n",
    "    \n",
    "    print(price)\n",
    "    \n",
    "#     clean_price=''.join(char for char in input_string if char.isdigit() or char == '.')\n",
    "#     print(clean_price)\n",
    "#     if(float(clean_price)<=40000):\n",
    "#         send_mail()\n",
    "    "
   ]
  },
  {
   "cell_type": "code",
   "execution_count": null,
   "id": "6ef4988e",
   "metadata": {},
   "outputs": [],
   "source": [
    "# Runs check_price after a set time and inputs data into your CSV\n",
    "\n",
    "while(True):\n",
    "    check_price()\n",
    "    time.sleep(86400)\n",
    "    \n",
    "    "
   ]
  },
  {
   "cell_type": "code",
   "execution_count": null,
   "id": "21d1f3e8",
   "metadata": {},
   "outputs": [],
   "source": [
    "# If uou want to try sending yourself an email (just for fun) when a price hits below a certain level you can try it\n",
    "# out with this script\n",
    "\n",
    "def send_mail():\n",
    "    server = smtplib.SMTP_SSL('smtp.gmail.com',465)\n",
    "    server.ehlo()\n",
    "    #server.starttls()\n",
    "    server.ehlo()\n",
    "    server.login('prjsagar123@gmail.com','goliraja123@')\n",
    "    \n",
    "    subject = \"The AC you want is below 40000 Now is your chance to buy!\"\n",
    "    body = \"Sagar, This is the moment we have been waiting for. Now is your chance to pick up the AC . Don't mess it up!    \n",
    "    msg = f\"Subject: {subject}\\n\\n{body}\"\n",
    "    \n",
    "    server.sendmail(\n",
    "        'prajapatisagar123@gmail.com',\n",
    "        msg\n",
    "     \n",
    "    )"
   ]
  },
  {
   "cell_type": "code",
   "execution_count": null,
   "id": "bcd9161b",
   "metadata": {},
   "outputs": [],
   "source": []
  }
 ],
 "metadata": {
  "kernelspec": {
   "display_name": "Python 3 (ipykernel)",
   "language": "python",
   "name": "python3"
  },
  "language_info": {
   "codemirror_mode": {
    "name": "ipython",
    "version": 3
   },
   "file_extension": ".py",
   "mimetype": "text/x-python",
   "name": "python",
   "nbconvert_exporter": "python",
   "pygments_lexer": "ipython3",
   "version": "3.11.7"
  }
 },
 "nbformat": 4,
 "nbformat_minor": 5
}
